{
 "cells": [
  {
   "cell_type": "code",
   "execution_count": 2,
   "id": "5e87a2e4",
   "metadata": {},
   "outputs": [
    {
     "name": "stdout",
     "output_type": "stream",
     "text": [
      "Hello World\n"
     ]
    }
   ],
   "source": [
    "print(\"Hello World\")"
   ]
  },
  {
   "cell_type": "code",
   "execution_count": 3,
   "id": "3a7966fe",
   "metadata": {},
   "outputs": [
    {
     "name": "stdout",
     "output_type": "stream",
     "text": [
      "Requirement already satisfied: mysql-connector-python in c:\\users\\abman\\anaconda3\\lib\\site-packages (8.0.33)\n",
      "Collecting protobuf<=3.20.3,>=3.11.0\n",
      "  Downloading protobuf-3.20.3-cp310-cp310-win_amd64.whl (904 kB)\n",
      "     -------------------------------------- 904.0/904.0 kB 9.5 MB/s eta 0:00:00\n",
      "Installing collected packages: protobuf\n",
      "  Attempting uninstall: protobuf\n",
      "    Found existing installation: protobuf 4.22.3\n",
      "    Uninstalling protobuf-4.22.3:\n",
      "      Successfully uninstalled protobuf-4.22.3\n",
      "Successfully installed protobuf-3.20.3\n"
     ]
    }
   ],
   "source": [
    "!pip install mysql-connector-python"
   ]
  },
  {
   "cell_type": "code",
   "execution_count": 4,
   "id": "9f3fcf4a",
   "metadata": {},
   "outputs": [
    {
     "name": "stdout",
     "output_type": "stream",
     "text": [
      "Connected to MySQL Server version  8.0.36-28\n",
      "You're connected to database:  ('olistData_opinionby',)\n",
      "MySQL connection is closed\n"
     ]
    }
   ],
   "source": [
    "import mysql.connector\n",
    "from mysql.connector import Error\n",
    "\n",
    "hostname = \"9j58x.h.filess.io\"\n",
    "database = \"olistData_opinionby\"\n",
    "port = \"61002\"\n",
    "username = \"olistData_opinionby\"\n",
    "password = \"401e204b80c501bb6d8a35f7a605633117cc68ea\"\n",
    "\n",
    "try:\n",
    "    connection = mysql.connector.connect(host=hostname, database=database, user=username, password=password, port=port)\n",
    "    if connection.is_connected():\n",
    "        db_Info = connection.get_server_info()\n",
    "        print(\"Connected to MySQL Server version \", db_Info)\n",
    "        cursor = connection.cursor()\n",
    "        cursor.execute(\"select database();\")\n",
    "        record = cursor.fetchone()\n",
    "        print(\"You're connected to database: \", record)\n",
    "\n",
    "except Error as e:\n",
    "    print(\"Error while connecting to MySQL\", e)\n",
    "finally:\n",
    "    if connection.is_connected():\n",
    "        cursor.close()\n",
    "        connection.close()\n",
    "        print(\"MySQL connection is closed\")\n",
    "\n"
   ]
  },
  {
   "cell_type": "code",
   "execution_count": 2,
   "id": "74feee34",
   "metadata": {},
   "outputs": [],
   "source": [
    "import pandas as pd\n",
    "\n",
    "order_payments  = pd.read_csv('Data\\olist_order_payments_dataset.csv')"
   ]
  },
  {
   "cell_type": "markdown",
   "id": "dd3b7d73",
   "metadata": {},
   "source": [
    "## We are going to ingest order payments dataset into filess.io DB "
   ]
  },
  {
   "cell_type": "code",
   "execution_count": 6,
   "id": "282b77a9",
   "metadata": {},
   "outputs": [
    {
     "data": {
      "text/html": [
       "<div>\n",
       "<style scoped>\n",
       "    .dataframe tbody tr th:only-of-type {\n",
       "        vertical-align: middle;\n",
       "    }\n",
       "\n",
       "    .dataframe tbody tr th {\n",
       "        vertical-align: top;\n",
       "    }\n",
       "\n",
       "    .dataframe thead th {\n",
       "        text-align: right;\n",
       "    }\n",
       "</style>\n",
       "<table border=\"1\" class=\"dataframe\">\n",
       "  <thead>\n",
       "    <tr style=\"text-align: right;\">\n",
       "      <th></th>\n",
       "      <th>order_id</th>\n",
       "      <th>payment_sequential</th>\n",
       "      <th>payment_type</th>\n",
       "      <th>payment_installments</th>\n",
       "      <th>payment_value</th>\n",
       "    </tr>\n",
       "  </thead>\n",
       "  <tbody>\n",
       "    <tr>\n",
       "      <th>0</th>\n",
       "      <td>b81ef226f3fe1789b1e8b2acac839d17</td>\n",
       "      <td>1</td>\n",
       "      <td>credit_card</td>\n",
       "      <td>8</td>\n",
       "      <td>99.33</td>\n",
       "    </tr>\n",
       "    <tr>\n",
       "      <th>1</th>\n",
       "      <td>a9810da82917af2d9aefd1278f1dcfa0</td>\n",
       "      <td>1</td>\n",
       "      <td>credit_card</td>\n",
       "      <td>1</td>\n",
       "      <td>24.39</td>\n",
       "    </tr>\n",
       "    <tr>\n",
       "      <th>2</th>\n",
       "      <td>25e8ea4e93396b6fa0d3dd708e76c1bd</td>\n",
       "      <td>1</td>\n",
       "      <td>credit_card</td>\n",
       "      <td>1</td>\n",
       "      <td>65.71</td>\n",
       "    </tr>\n",
       "    <tr>\n",
       "      <th>3</th>\n",
       "      <td>ba78997921bbcdc1373bb41e913ab953</td>\n",
       "      <td>1</td>\n",
       "      <td>credit_card</td>\n",
       "      <td>8</td>\n",
       "      <td>107.78</td>\n",
       "    </tr>\n",
       "    <tr>\n",
       "      <th>4</th>\n",
       "      <td>42fdf880ba16b47b59251dd489d4441a</td>\n",
       "      <td>1</td>\n",
       "      <td>credit_card</td>\n",
       "      <td>2</td>\n",
       "      <td>128.45</td>\n",
       "    </tr>\n",
       "  </tbody>\n",
       "</table>\n",
       "</div>"
      ],
      "text/plain": [
       "                           order_id  payment_sequential payment_type  \\\n",
       "0  b81ef226f3fe1789b1e8b2acac839d17                   1  credit_card   \n",
       "1  a9810da82917af2d9aefd1278f1dcfa0                   1  credit_card   \n",
       "2  25e8ea4e93396b6fa0d3dd708e76c1bd                   1  credit_card   \n",
       "3  ba78997921bbcdc1373bb41e913ab953                   1  credit_card   \n",
       "4  42fdf880ba16b47b59251dd489d4441a                   1  credit_card   \n",
       "\n",
       "   payment_installments  payment_value  \n",
       "0                     8          99.33  \n",
       "1                     1          24.39  \n",
       "2                     1          65.71  \n",
       "3                     8         107.78  \n",
       "4                     2         128.45  "
      ]
     },
     "execution_count": 6,
     "metadata": {},
     "output_type": "execute_result"
    }
   ],
   "source": [
    "order_payments.head(5)"
   ]
  },
  {
   "cell_type": "code",
   "execution_count": null,
   "id": "5ba66a60",
   "metadata": {},
   "outputs": [
    {
     "name": "stdout",
     "output_type": "stream",
     "text": [
      "Connected to MySQL Server successfully!\n",
      "Table `olist_order_payments` dropped if it existed.\n"
     ]
    }
   ],
   "source": [
    "import pandas as pd\n",
    "import mysql.connector\n",
    "from mysql.connector import Error\n",
    "\n",
    "# Connection details\n",
    "hostname = \"9j58x.h.filess.io\"\n",
    "database = \"olistData_opinionby\"\n",
    "port = \"61002\"\n",
    "username = \"olistData_opinionby\"\n",
    "password = \"401e204b80c501bb6d8a35f7a605633117cc68ea\"\n",
    "\n",
    "# CSV file path\n",
    "csv_file_path = \"Data\\olist_order_payments_dataset.csv\"\n",
    "\n",
    "# Table name where the data will be uploaded\n",
    "table_name = \"olist_order_payments\"\n",
    "\n",
    "try:\n",
    "    # Step 1: Establish a connection to MySQL server\n",
    "    connection = mysql.connector.connect(\n",
    "        host=hostname,\n",
    "        database=database,\n",
    "        user=username,\n",
    "        password=password,\n",
    "        port=port\n",
    "    )\n",
    "    if connection.is_connected():\n",
    "        print(\"Connected to MySQL Server successfully!\")\n",
    "\n",
    "        # Step 2: Create a cursor to execute SQL queries\n",
    "        cursor = connection.cursor()\n",
    "\n",
    "        # Step 3: Drop table if it already exists (for clean insertion)\n",
    "        cursor.execute(f\"DROP TABLE IF EXISTS {table_name};\")\n",
    "        print(f\"Table `{table_name}` dropped if it existed.\")\n",
    "\n",
    "        # Step 4: Create a table structure to match CSV file\n",
    "        create_table_query = f\"\"\"\n",
    "        CREATE TABLE {table_name} (\n",
    "            order_id VARCHAR(50),\n",
    "            payment_sequential INT,\n",
    "            payment_type VARCHAR(20),\n",
    "            payment_installments INT,\n",
    "            payment_value FLOAT\n",
    "        );\n",
    "        \"\"\"\n",
    "        cursor.execute(create_table_query)\n",
    "        print(f\"Table `{table_name}` created successfully!\")\n",
    "\n",
    "        # Step 5: Load the CSV data into pandas DataFrame\n",
    "        data = pd.read_csv(csv_file_path)\n",
    "        print(\"CSV data loaded into pandas DataFrame.\")\n",
    "\n",
    "        # Step 6: Insert data in batches of 500 records\n",
    "        batch_size = 500  # Define the batch size\n",
    "        total_records = len(data)  # Get total records in the DataFrame\n",
    "\n",
    "        print(f\"Starting data insertion into `{table_name}` in batches of {batch_size} records.\")\n",
    "        for start in range(0, total_records, batch_size):\n",
    "            end = start + batch_size\n",
    "            batch = data.iloc[start:end]  # Get the current batch of records\n",
    "\n",
    "            # Convert batch to list of tuples for MySQL insertion\n",
    "            batch_records = [\n",
    "                tuple(row) for row in batch.itertuples(index=False, name=None)\n",
    "            ]\n",
    "\n",
    "            # Prepare the INSERT query\n",
    "            insert_query = f\"\"\"\n",
    "            INSERT INTO {table_name}\n",
    "            (order_id, payment_sequential, payment_type, payment_installments, payment_value)\n",
    "            VALUES (%s, %s, %s, %s, %s);\n",
    "            \"\"\"\n",
    "\n",
    "            # Execute the insertion query for the batch\n",
    "            cursor.executemany(insert_query, batch_records)\n",
    "            connection.commit()  # Commit after each batch\n",
    "            print(f\"Inserted records {start + 1} to {min(end, total_records)} successfully.\")\n",
    "\n",
    "        print(f\"All {total_records} records inserted successfully into `{table_name}`.\")\n",
    "\n",
    "except Error as e:\n",
    "    # Step 7: Handle any errors\n",
    "    print(\"Error while connecting to MySQL or inserting data:\", e)\n",
    "\n",
    "finally:\n",
    "    # Step 8: Close the cursor and connection\n",
    "    if connection.is_connected():\n",
    "        cursor.close()\n",
    "        connection.close()\n",
    "        print(\"MySQL connection is closed.\")"
   ]
  },
  {
   "cell_type": "code",
   "execution_count": null,
   "id": "4e7815fd",
   "metadata": {},
   "outputs": [],
   "source": []
  },
  {
   "cell_type": "code",
   "execution_count": null,
   "id": "1e297882",
   "metadata": {},
   "outputs": [],
   "source": []
  }
 ],
 "metadata": {
  "kernelspec": {
   "display_name": "base",
   "language": "python",
   "name": "python3"
  },
  "language_info": {
   "codemirror_mode": {
    "name": "ipython",
    "version": 3
   },
   "file_extension": ".py",
   "mimetype": "text/x-python",
   "name": "python",
   "nbconvert_exporter": "python",
   "pygments_lexer": "ipython3",
   "version": "3.10.9"
  }
 },
 "nbformat": 4,
 "nbformat_minor": 5
}
